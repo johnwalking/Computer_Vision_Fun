{
 "cells": [
  {
   "cell_type": "code",
   "execution_count": null,
   "metadata": {},
   "outputs": [],
   "source": []
  },
  {
   "cell_type": "code",
   "execution_count": 1,
   "metadata": {},
   "outputs": [],
   "source": [
    "import cv2\n",
    "import time\n",
    "import numpy as np"
   ]
  },
  {
   "cell_type": "code",
   "execution_count": 2,
   "metadata": {},
   "outputs": [],
   "source": []
  },
  {
   "cell_type": "code",
   "execution_count": null,
   "metadata": {},
   "outputs": [],
   "source": [
    "import cv2\n",
    "import time\n",
    "import numpy as np\n",
    "cap = cv2.VideoCapture(0)\n",
    "fourcc = cv2.VideoWriter_fourcc(*'MP4V')\n",
    "out = cv2.VideoWriter('output.mp4', fourcc, 20.0, (640,  480))\n",
    "#紀錄背景\n",
    "time.sleep(3)\n",
    "count = 0\n",
    "background = 0\n",
    "for i in range(60):\n",
    "    ret, background = cap.read()\n",
    "background = np.flip(background, axis=1)\n",
    "while (cap.isOpened()):\n",
    "    ret, img = cap.read()\n",
    "    if not ret:\n",
    "        break\n",
    "    count += 1\n",
    "    img = np.flip(img, axis=1)    \n",
    "    ## Convert the color space from BGR to HSV\n",
    "    hsv = cv2.cvtColor(img, cv2.COLOR_BGR2HSV)    \n",
    "    lower_blue = np.array([100, 43, 46])\n",
    "    upper_blue = np.array([124, 255,255])\n",
    "    mask1 = cv2.inRange(hsv, lower_blue, upper_blue)    \n",
    "    \n",
    "\n",
    "    mask1 = cv2.morphologyEx(mask1, cv2.MORPH_OPEN, np.ones((3, 3), np.uint8))\n",
    "    mask1 = cv2.morphologyEx(mask1, cv2.MORPH_DILATE, np.ones((3, 3), np.uint8))\n",
    "\n",
    "    mask2 = cv2.bitwise_not(mask1)\n",
    "\n",
    "    res1 = cv2.bitwise_and(img, img, mask=mask2)\n",
    "    \n",
    "\n",
    "    #把原本背景非紅藍區塊抓出來\n",
    "    res2 = cv2.bitwise_and(background, background, mask=mask1)\n",
    "    \n",
    "    finalOutput = cv2.addWeighted(res1, 1, res2, 1, 0)\n",
    "    out.write(finalOutput)\n",
    "    cv2.imshow(\"magic\", finalOutput)\n",
    "    cv2.waitKey(1)\n",
    "cap.release()\n",
    "out.release()\n",
    "cv2.destroyAllWindows()"
   ]
  },
  {
   "cell_type": "code",
   "execution_count": 2,
   "metadata": {},
   "outputs": [],
   "source": [
    "import cv2 as cv\n",
    "import numpy as np\n",
    "\n",
    "# set blue thresh\n",
    "lower_yellow=np.array([11,43,46])\n",
    "upper_yellow=np.array([25,255,255])\n",
    "\n",
    "frame=cv.imread(\"flower.jpg\") #讀取影象\n",
    "cv.imshow(\"who\",frame)\n",
    "\n",
    "#compress\n",
    "cp = cv.resize(frame, (300,300), interpolation=cv.INTER_AREA)\n",
    "cv.imwrite(\"tulips_1.jpg\",cp)\n",
    "\n",
    "# change to hsv model\n",
    "hsv = cv.cvtColor(cp, cv.COLOR_BGR2HSV)\n",
    " \n",
    "# get mask\n",
    "mask = cv.inRange(hsv, lower_yellow, upper_yellow)\n",
    "cv.imshow('Mask', mask)\n",
    "\n",
    "# detect blue\n",
    "res = cv.bitwise_and(cp, cp, mask=mask)\n",
    "cv.imshow('Result', res)\n",
    " \n",
    "cv.waitKey(0)\n",
    "cv.destroyAllWindows()"
   ]
  },
  {
   "cell_type": "code",
   "execution_count": null,
   "metadata": {},
   "outputs": [],
   "source": []
  }
 ],
 "metadata": {
  "kernelspec": {
   "display_name": "Python 3",
   "language": "python",
   "name": "python3"
  },
  "language_info": {
   "codemirror_mode": {
    "name": "ipython",
    "version": 3
   },
   "file_extension": ".py",
   "mimetype": "text/x-python",
   "name": "python",
   "nbconvert_exporter": "python",
   "pygments_lexer": "ipython3",
   "version": "3.7.3"
  }
 },
 "nbformat": 4,
 "nbformat_minor": 2
}
